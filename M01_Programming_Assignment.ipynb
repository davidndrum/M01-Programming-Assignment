{
 "cells": [
  {
   "cell_type": "code",
   "execution_count": null,
   "id": "67bc35f6-97db-474b-98f5-86135b7b2b20",
   "metadata": {},
   "outputs": [],
   "source": [
    "#3.1 How many seconds are in an hour? Use the interactive interpreter as a calculator and multiply the number of seconds \n",
    "#in a minute (60) by the number of minutes in an hour (also 60)."
   ]
  },
  {
   "cell_type": "code",
   "execution_count": 1,
   "id": "93d028e1-5714-4c98-99fa-616f4d17bda8",
   "metadata": {
    "tags": []
   },
   "outputs": [
    {
     "data": {
      "text/plain": [
       "3600"
      ]
     },
     "execution_count": 1,
     "metadata": {},
     "output_type": "execute_result"
    }
   ],
   "source": [
    "secondsPerMinute = 60\n",
    "minutesPerHour = 60\n",
    "secondsPerMinute * minutesPerHour"
   ]
  },
  {
   "cell_type": "code",
   "execution_count": 2,
   "id": "ab974858-c693-4670-a257-620ca12a3798",
   "metadata": {
    "tags": []
   },
   "outputs": [],
   "source": [
    "secondsPerMinute = 60\n",
    "minutesPerHour = 60\n",
    "a = secondsPerMinute * minutesPerHour"
   ]
  },
  {
   "cell_type": "code",
   "execution_count": null,
   "id": "dbb81ee6-122a-476e-a569-d8606feff45d",
   "metadata": {},
   "outputs": [],
   "source": [
    "#3.2 Assign the result from the previous task (seconds in an hour) to a variable called seconds_per_hour."
   ]
  },
  {
   "cell_type": "code",
   "execution_count": 3,
   "id": "3e2edd6a-2469-473f-ba94-968b286c6f01",
   "metadata": {
    "tags": []
   },
   "outputs": [],
   "source": [
    "seconds_per_hour = a"
   ]
  },
  {
   "cell_type": "code",
   "execution_count": null,
   "id": "7cdb00c2-0aeb-472c-a780-f323b28b1d61",
   "metadata": {},
   "outputs": [],
   "source": [
    "#3.3 How many seconds are in a day? Use your seconds_per_hour variable."
   ]
  },
  {
   "cell_type": "code",
   "execution_count": 4,
   "id": "6ad42578-ef79-4a48-8d05-7f6024402c39",
   "metadata": {
    "tags": []
   },
   "outputs": [
    {
     "name": "stdout",
     "output_type": "stream",
     "text": [
      "86400\n"
     ]
    }
   ],
   "source": [
    "hoursPerDay = 24\n",
    "a = seconds_per_hour * hoursPerDay\n",
    "print(a)"
   ]
  },
  {
   "cell_type": "code",
   "execution_count": null,
   "id": "460b08c9-0aa2-4cbb-8423-e55b141bffaa",
   "metadata": {},
   "outputs": [],
   "source": [
    "#3.4 Calculate seconds per day again, but this time save the result in a variable called seconds_per_day."
   ]
  },
  {
   "cell_type": "code",
   "execution_count": 5,
   "id": "45bea132-de1f-4377-bece-cca8aa68e88e",
   "metadata": {
    "tags": []
   },
   "outputs": [
    {
     "name": "stdout",
     "output_type": "stream",
     "text": [
      "86400\n"
     ]
    }
   ],
   "source": [
    "seconds_per_day = seconds_per_hour * hoursPerDay\n",
    "print(seconds_per_day)"
   ]
  },
  {
   "cell_type": "code",
   "execution_count": null,
   "id": "9e9d6955-e9ac-44ea-ac6c-03f44e0b2396",
   "metadata": {},
   "outputs": [],
   "source": [
    "#3.5 Divide seconds_per_day by seconds_per_hour. Use floating-point (/) division."
   ]
  },
  {
   "cell_type": "code",
   "execution_count": 6,
   "id": "e32a24b0-8ac4-4e5d-9d55-57b4e16e38e0",
   "metadata": {
    "tags": []
   },
   "outputs": [
    {
     "name": "stdout",
     "output_type": "stream",
     "text": [
      "24.0\n"
     ]
    }
   ],
   "source": [
    "print(seconds_per_day / seconds_per_hour)"
   ]
  },
  {
   "cell_type": "code",
   "execution_count": null,
   "id": "b41c8994-e526-446c-b1b1-ca4e964ffcba",
   "metadata": {},
   "outputs": [],
   "source": [
    "#3.6 Divide seconds_per_day by seconds_per_hour, using integer (//) division.\n",
    "#Did this number agree with the floating-point value from the previous question, aside from the final .0?\n",
    "# Yes.  The numbers are equal, they are just formatted differently."
   ]
  },
  {
   "cell_type": "code",
   "execution_count": 7,
   "id": "6c3275e2-7fc2-4f25-8d8f-caf22fd06e93",
   "metadata": {
    "tags": []
   },
   "outputs": [
    {
     "name": "stdout",
     "output_type": "stream",
     "text": [
      "24\n"
     ]
    }
   ],
   "source": [
    "print(seconds_per_day // seconds_per_hour)"
   ]
  }
 ],
 "metadata": {
  "kernelspec": {
   "display_name": "Python 3 (ipykernel)",
   "language": "python",
   "name": "python3"
  },
  "language_info": {
   "codemirror_mode": {
    "name": "ipython",
    "version": 3
   },
   "file_extension": ".py",
   "mimetype": "text/x-python",
   "name": "python",
   "nbconvert_exporter": "python",
   "pygments_lexer": "ipython3",
   "version": "3.11.5"
  }
 },
 "nbformat": 4,
 "nbformat_minor": 5
}
